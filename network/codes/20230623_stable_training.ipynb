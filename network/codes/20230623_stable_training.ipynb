{
  "nbformat": 4,
  "nbformat_minor": 0,
  "metadata": {
    "colab": {
      "provenance": [],
      "gpuType": "T4"
    },
    "kernelspec": {
      "name": "python3",
      "display_name": "Python 3"
    },
    "language_info": {
      "name": "python"
    }
  },
  "cells": [
    {
      "cell_type": "code",
      "source": [
        "%load_ext autoreload\n",
        "%autoreload 2"
      ],
      "metadata": {
        "id": "UAy9MyBLzaZP"
      },
      "execution_count": 1,
      "outputs": []
    },
    {
      "cell_type": "code",
      "execution_count": 2,
      "metadata": {
        "colab": {
          "base_uri": "https://localhost:8080/"
        },
        "id": "I3wGJDeyxFC-",
        "outputId": "87be9687-0a9f-4936-a986-07bc6162847d"
      },
      "outputs": [
        {
          "output_type": "stream",
          "name": "stdout",
          "text": [
            "Mounted at /content/drive\n"
          ]
        }
      ],
      "source": [
        "from google.colab import drive\n",
        "drive.mount('/content/drive')"
      ]
    },
    {
      "cell_type": "markdown",
      "source": [
        "# Modules & Codes"
      ],
      "metadata": {
        "id": "_p6cAzQAyIeg"
      }
    },
    {
      "cell_type": "code",
      "source": [
        "# Modules\n",
        "import os\n",
        "\n",
        "import numpy as np\n",
        "\n",
        "from tqdm import tqdm\n",
        "import datetime\n",
        "from h5py import File as h5File\n",
        "\n",
        "import torch\n",
        "from torch.utils.data import Dataset, DataLoader\n",
        "import torch.nn as nn\n",
        "import torch.nn.functional as F\n",
        "\n",
        "import cv2 as cv\n",
        "\n",
        "import matplotlib.pyplot as plt"
      ],
      "metadata": {
        "id": "1AA1SmDvzlC_"
      },
      "execution_count": 3,
      "outputs": []
    },
    {
      "cell_type": "code",
      "source": [
        "# Parameters\n",
        "if torch.cuda.is_available():\n",
        "    DEVICE = 'cuda:0'\n",
        "else:\n",
        "    DEVICE = 'cpu'\n",
        "print(DEVICE)"
      ],
      "metadata": {
        "id": "z7ts-jd5DG59",
        "colab": {
          "base_uri": "https://localhost:8080/"
        },
        "outputId": "0febd889-11d0-4a95-a943-454c82369bc5"
      },
      "execution_count": 4,
      "outputs": [
        {
          "output_type": "stream",
          "name": "stdout",
          "text": [
            "cpu\n"
          ]
        }
      ]
    },
    {
      "cell_type": "code",
      "source": [
        "# Methods\n",
        "## Apply OpenCV AffineRotation to a single point\n",
        "def rotate_xy(M, x, y):\n",
        "    return np.matmul(\n",
        "        M,\n",
        "        np.array([x, y, 1])\n",
        "    )\n",
        "\n",
        "# DataLoaders\n",
        "class AnnotatedDataLoader(Dataset):\n",
        "    # Constructor\n",
        "    def __init__(\n",
        "            self,\n",
        "            fp_annotated_data,\n",
        "            factor_augmentations = 1,\n",
        "            windowsize_min_included = 120,\n",
        "            crop_size = 400,\n",
        "            gamma_max_deviation = 0.2,\n",
        "            always_same_rows = True,\n",
        "            verbose = False\n",
        "        ):\n",
        "        super().__init__()\n",
        "        self.fp_annotated_data = fp_annotated_data\n",
        "        self._data_file = h5File(self.fp_annotated_data)\n",
        "        self.images = self._data_file['data']\n",
        "        self.nrecords, self.ny, self.nx = self.images.shape\n",
        "        self.coordinates = self._data_file['annotations']\n",
        "        self.factor_augmentations = factor_augmentations\n",
        "        self.n = self.nrecords * self.factor_augmentations\n",
        "        self.windowsize_min_included = windowsize_min_included\n",
        "        self.windowsize_min_included2 = self.windowsize_min_included//2\n",
        "        self.crop_size = crop_size\n",
        "\n",
        "        self.gamma_max_deviation = gamma_max_deviation\n",
        "        self.always_same_rows = always_same_rows\n",
        "        self.verbose = verbose\n",
        "        return\n",
        "    # Length\n",
        "    def __len__(self):\n",
        "        return self.n\n",
        "    # Get Item\n",
        "    def __getitem__(self, i):\n",
        "        # DEBUG\n",
        "        if self.always_same_rows:\n",
        "            np.random.seed(i)\n",
        "        # Parameters\n",
        "        idx = i // self.factor_augmentations\n",
        "        # Choose randomly from 4 possible rotations: 0, 90, 180, 270 degrees\n",
        "        theta = np.random.choice([ 0, 90, 180, 270 ])\n",
        "        nx, ny = self.nx, self.ny\n",
        "        img_processed = self.images[idx]\n",
        "        y_idx, x_idx = self.coordinates[idx]\n",
        "        label = 1\n",
        "        if y_idx >= ny or x_idx >= nx or y_idx < 0 or x_idx < 0:\n",
        "            label = 0\n",
        "            y_idx, x_idx = ny//2, nx//2\n",
        "        # Gamma\n",
        "        gamma = 1.0 + (np.random.rand()-0.5)*2*self.gamma_max_deviation\n",
        "        img_processed = ( (img_processed/255)**gamma * 255 ).astype(np.uint8)\n",
        "\n",
        "        M_rotation = cv.getRotationMatrix2D((nx//2, ny//2), theta, 1.0)\n",
        "        img_processed = cv.warpAffine(\n",
        "            img_processed,\n",
        "            M_rotation,\n",
        "            (self.nx, self.ny),\n",
        "            borderValue=255\n",
        "        )\n",
        "        coords_new = rotate_xy(M_rotation, x_idx, y_idx).astype(np.int32)\n",
        "\n",
        "        # Label 0\n",
        "        if label == 0:\n",
        "            coords_no_worm = np.array(\n",
        "                [self.windowsize_min_included2, self.windowsize_min_included2],\n",
        "                dtype=np.float32\n",
        "            )\n",
        "            return img_processed, coords_no_worm, label\n",
        "\n",
        "        # If Annotation is close to the edge, discard the \"Minimum Window Criteria\"\n",
        "        # windowsize_min_included2 = WINDOWSIZE_MIN_INCLUDED2\n",
        "        # if np.any(coords_new-windowsize_min_included2 < 0) or np.any(coords_new+windowsize_min_included2 >= np.array([nx, ny])):\n",
        "        #     windowsize_min_included2 = 0\n",
        "        #     if DEBUG:\n",
        "        #         print(f\"Annotation close to edge encountered! Image IDX: {idx} Label: {label}, Coords: {coords_new}\")\n",
        "\n",
        "        # TODO add passing conditions and handle missing annotation inside the frame\n",
        "        for _ in range(3):\n",
        "            # Annotation Outside after Rotation\n",
        "            if np.any(coords_new >= np.array([nx, ny])) or np.any(coords_new < np.zeros(2)):\n",
        "                if self.verbose:\n",
        "                    print(\"Rotation@annotation outside image: {}-{} , shape:({},{})\".format(\n",
        "                        *coords_new,\n",
        "                        nx, ny\n",
        "                    ))\n",
        "                continue\n",
        "            if self.verbose:\n",
        "                print(f\"Image IDX: {idx} Label: {label}, COORD NEW: {coords_new}\")\n",
        "            x_idx_new, y_idx_new = coords_new\n",
        "            # If Conditions\n",
        "            ## X\n",
        "            if x_idx_new <= self.windowsize_min_included2:\n",
        "                x_idx_min, x_idx_max = 0, 0\n",
        "            elif x_idx_new >= (nx - self.windowsize_min_included2):\n",
        "                x_idx_min, x_idx_max = nx-self.crop_size, nx-self.crop_size\n",
        "            elif x_idx_new <= nx//2:\n",
        "                x_idx_min, x_idx_max = 0, min(x_idx_new - self.windowsize_min_included2, nx-self.crop_size)\n",
        "            elif x_idx_new > nx//2:\n",
        "                x_idx_min, x_idx_max = max(0, x_idx_new+self.windowsize_min_included2-self.crop_size), nx-self.crop_size\n",
        "            else:\n",
        "                raise NotImplementedError()\n",
        "            ## Y\n",
        "            if y_idx_new <= self.windowsize_min_included2:\n",
        "                y_idx_min, y_idx_max = 0, 0\n",
        "            elif y_idx_new >= (ny - self.windowsize_min_included2):\n",
        "                y_idx_min, y_idx_max = ny-self.crop_size, ny-self.crop_size\n",
        "            elif y_idx_new <= ny//2:\n",
        "                y_idx_min, y_idx_max = 0, min(y_idx_new - self.windowsize_min_included2, ny-self.crop_size)\n",
        "            elif y_idx_new > ny//2:\n",
        "                y_idx_min, y_idx_max = max(0, y_idx_new+self.windowsize_min_included2-self.crop_size), ny-self.crop_size\n",
        "            else:\n",
        "                raise NotImplementedError()\n",
        "            if self.verbose:\n",
        "                print(\"IDX X MIN-MAX: {}-{} , Y MIN-MAX: {}-{}\".format(\n",
        "                    x_idx_min, x_idx_max,\n",
        "                    y_idx_min, y_idx_max\n",
        "                ))\n",
        "            # Empty Cropping Area\n",
        "            if x_idx_max < x_idx_min or y_idx_max < y_idx_min:\n",
        "                if self.verbose:\n",
        "                    print(\"Empty crop area: {}-{} , {}-{}\".format(\n",
        "                        x_idx_min, x_idx_max,\n",
        "                        y_idx_min, y_idx_max\n",
        "                    ))\n",
        "                continue\n",
        "            if self.verbose:\n",
        "                print(f\"{x_idx_min}-{x_idx_max} , {y_idx_min}-{y_idx_max}\")\n",
        "            crop_topleft = np.random.randint(\n",
        "                (y_idx_min, x_idx_min),\n",
        "                (y_idx_max+1,x_idx_max+1)\n",
        "            )  # so `x` can be used for index `i` in slicing and `y` for column indexing\n",
        "            if self.verbose:\n",
        "                print(f\"{crop_topleft}\")\n",
        "            # Apply\n",
        "            imin, jmin = crop_topleft\n",
        "            imax, jmax = crop_topleft+self.crop_size\n",
        "            img_processed = img_processed[imin:imax, jmin:jmax]\n",
        "            coords_new -= crop_topleft[::-1]\n",
        "            # Return\n",
        "            if self.verbose:\n",
        "                print(f\"Image IDX: {idx} Label: {label}, COORD NEW Cropped: {coords_new}\")\n",
        "            return img_processed, coords_new, label\n",
        "        print(\"DEBUG: Attempts to Augment failed!\")\n",
        "        print(f\"Image IDX: {idx} Label: {label}, Coords: {coords_new}\")\n",
        "        raise NotImplementedError()\n",
        "# DataLoaders\n",
        "class AnnotatedDataLoaderDebug(Dataset):\n",
        "    # Constructor\n",
        "    def __init__(\n",
        "            self,\n",
        "            fp_annotated_data,\n",
        "            factor_augmentations = 1,\n",
        "            windowsize_min_included = 120,\n",
        "            crop_size = 400,\n",
        "            gamma_max_deviation = 0.2,\n",
        "            always_same_rows = False,\n",
        "            verbose = False\n",
        "        ):\n",
        "        super().__init__()\n",
        "        self.fp_annotated_data = fp_annotated_data\n",
        "        self._data_file = h5File(self.fp_annotated_data)\n",
        "        self.images = self._data_file['data']\n",
        "        self.nrecords, self.ny, self.nx = self.images.shape\n",
        "        self.coordinates = self._data_file['annotations']\n",
        "        self.factor_augmentations = factor_augmentations\n",
        "        self.n = self.nrecords * self.factor_augmentations\n",
        "        self.windowsize_min_included = windowsize_min_included\n",
        "        self.windowsize_min_included2 = self.windowsize_min_included//2\n",
        "        self.crop_size = crop_size\n",
        "\n",
        "        self.gamma_max_deviation = gamma_max_deviation\n",
        "        self.always_same_rows = always_same_rows\n",
        "        self.verbose = verbose\n",
        "        return\n",
        "    # Length\n",
        "    def __len__(self):\n",
        "        return self.n\n",
        "    # Get Item\n",
        "    def __getitem__(self, i):\n",
        "        # DEBUG\n",
        "        if self.always_same_rows:\n",
        "            np.random.seed(i)\n",
        "        # Parameters\n",
        "        idx = i // self.factor_augmentations\n",
        "        # Choose randomly from 4 possible rotations: 0, 90, 180, 270 degrees\n",
        "        theta = np.random.choice([ 0, 90, 180, 270 ])\n",
        "        nx, ny = self.nx, self.ny\n",
        "        img_processed = self.images[idx]\n",
        "        y_idx, x_idx = self.coordinates[idx]\n",
        "        label = 1\n",
        "        if y_idx >= ny or x_idx >= nx or y_idx < 0 or x_idx < 0:\n",
        "            label = 0\n",
        "            y_idx, x_idx = ny//2, nx//2\n",
        "        # Gamma\n",
        "        gamma = 1.0 + (np.random.rand()-0.5)*2*self.gamma_max_deviation\n",
        "        img_processed = ( (img_processed/255)**gamma * 255 ).astype(np.uint8)\n",
        "\n",
        "        M_rotation = cv.getRotationMatrix2D((nx//2, ny//2), theta, 1.0)\n",
        "        img_processed = cv.warpAffine(\n",
        "            img_processed,\n",
        "            M_rotation,\n",
        "            (self.nx, self.ny),\n",
        "            borderValue=255\n",
        "        )\n",
        "        coords_new = rotate_xy(M_rotation, x_idx, y_idx).astype(np.int32)\n",
        "\n",
        "        # Info\n",
        "        info = np.array([ idx, x_idx, y_idx, label, theta, gamma ], dtype=np.float32)\n",
        "\n",
        "        # Label 0\n",
        "        if label == 0:\n",
        "            coords_no_worm = np.array(\n",
        "                [self.windowsize_min_included2, self.windowsize_min_included2],\n",
        "                dtype=np.float32\n",
        "            )\n",
        "            return img_processed, coords_no_worm, label, info\n",
        "\n",
        "        # If Annotation is close to the edge, discard the \"Minimum Window Criteria\"\n",
        "        # windowsize_min_included2 = WINDOWSIZE_MIN_INCLUDED2\n",
        "        # if np.any(coords_new-windowsize_min_included2 < 0) or np.any(coords_new+windowsize_min_included2 >= np.array([nx, ny])):\n",
        "        #     windowsize_min_included2 = 0\n",
        "        #     if DEBUG:\n",
        "        #         print(f\"Annotation close to edge encountered! Image IDX: {idx} Label: {label}, Coords: {coords_new}\")\n",
        "\n",
        "        # TODO add passing conditions and handle missing annotation inside the frame\n",
        "        for _ in range(3):\n",
        "            # Annotation Outside after Rotation\n",
        "            if np.any(coords_new >= np.array([nx, ny])) or np.any(coords_new < np.zeros(2)):\n",
        "                if self.verbose:\n",
        "                    print(\"Rotation@annotation outside image: {}-{} , shape:({},{})\".format(\n",
        "                        *coords_new,\n",
        "                        nx, ny\n",
        "                    ))\n",
        "                continue\n",
        "            if self.verbose:\n",
        "                print(f\"Image IDX: {idx} Label: {label}, COORD NEW: {coords_new}\")\n",
        "            x_idx_new, y_idx_new = coords_new\n",
        "            # If Conditions\n",
        "            ## X\n",
        "            if x_idx_new <= self.windowsize_min_included2:\n",
        "                x_idx_min, x_idx_max = 0, 0\n",
        "            elif x_idx_new >= (nx - self.windowsize_min_included2):\n",
        "                x_idx_min, x_idx_max = nx-self.crop_size, nx-self.crop_size\n",
        "            elif x_idx_new <= nx//2:\n",
        "                x_idx_min, x_idx_max = 0, min(x_idx_new - self.windowsize_min_included2, nx-self.crop_size)\n",
        "            elif x_idx_new > nx//2:\n",
        "                x_idx_min, x_idx_max = max(0, x_idx_new+self.windowsize_min_included2-self.crop_size), nx-self.crop_size\n",
        "            else:\n",
        "                raise NotImplementedError()\n",
        "            ## Y\n",
        "            if y_idx_new <= self.windowsize_min_included2:\n",
        "                y_idx_min, y_idx_max = 0, 0\n",
        "            elif y_idx_new >= (ny - self.windowsize_min_included2):\n",
        "                y_idx_min, y_idx_max = ny-self.crop_size, ny-self.crop_size\n",
        "            elif y_idx_new <= ny//2:\n",
        "                y_idx_min, y_idx_max = 0, min(y_idx_new - self.windowsize_min_included2, ny-self.crop_size)\n",
        "            elif y_idx_new > ny//2:\n",
        "                y_idx_min, y_idx_max = max(0, y_idx_new+self.windowsize_min_included2-self.crop_size), ny-self.crop_size\n",
        "            else:\n",
        "                raise NotImplementedError()\n",
        "            if self.verbose:\n",
        "                print(\"IDX X MIN-MAX: {}-{} , Y MIN-MAX: {}-{}\".format(\n",
        "                    x_idx_min, x_idx_max,\n",
        "                    y_idx_min, y_idx_max\n",
        "                ))\n",
        "            # Empty Cropping Area\n",
        "            if x_idx_max < x_idx_min or y_idx_max < y_idx_min:\n",
        "                if self.verbose:\n",
        "                    print(\"Empty crop area: {}-{} , {}-{}\".format(\n",
        "                        x_idx_min, x_idx_max,\n",
        "                        y_idx_min, y_idx_max\n",
        "                    ))\n",
        "                continue\n",
        "            if self.verbose:\n",
        "                print(f\"{x_idx_min}-{x_idx_max} , {y_idx_min}-{y_idx_max}\")\n",
        "            crop_topleft = np.random.randint(\n",
        "                (y_idx_min, x_idx_min),\n",
        "                (y_idx_max+1,x_idx_max+1)\n",
        "            )  # so `x` can be used for index `i` in slicing and `y` for column indexing\n",
        "            if self.verbose:\n",
        "                print(f\"{crop_topleft}\")\n",
        "            # Apply\n",
        "            imin, jmin = crop_topleft\n",
        "            imax, jmax = crop_topleft+self.crop_size\n",
        "            img_processed = img_processed[imin:imax, jmin:jmax]\n",
        "            coords_new -= crop_topleft[::-1]\n",
        "            # Return\n",
        "            if self.verbose:\n",
        "                print(f\"Image IDX: {idx} Label: {label}, COORD NEW Cropped: {coords_new}\")\n",
        "            return img_processed, coords_new, label, info\n",
        "        print(\"DEBUG: Attempts to Augment failed!\")\n",
        "        print(f\"Image IDX: {idx} Label: {label}, Coords: {coords_new}\")\n",
        "        raise NotImplementedError()\n",
        "\n",
        "# Collator Functions\n",
        "def collate_fn_3d_input(data):\n",
        "    images, coords, _  = zip(*data)\n",
        "    coords = np.array(coords)\n",
        "    images = np.repeat(\n",
        "        np.array(images)[:,None,:,:], 3, axis=1\n",
        "    )\n",
        "    images_channeled = torch.tensor( images, dtype=torch.float32 )\n",
        "    coords = torch.tensor( coords, dtype=torch.float32 )\n",
        "    return images_channeled, coords\n",
        "\n",
        "# Collator Functions\n",
        "def collate_fn_3d_input_debug(data):\n",
        "    images, coords, _, infos = zip(*data)\n",
        "    coords = np.array(coords)\n",
        "    images = np.repeat(\n",
        "        np.array(images)[:,None,:,:], 3, axis=1\n",
        "    )\n",
        "    images_channeled = torch.tensor( images, dtype=torch.float32 )\n",
        "    coords = torch.tensor( coords, dtype=torch.float32 )\n",
        "    infos = torch.tensor( np.array(infos), dtype=torch.float32 )\n",
        "    return images_channeled, coords, infos"
      ],
      "metadata": {
        "id": "O-WY0B-Eztm2"
      },
      "execution_count": 5,
      "outputs": []
    },
    {
      "cell_type": "code",
      "source": [
        "# Trainers\n",
        "## Coordinates Trainer\n",
        "class TrainerCoordinates:\n",
        "    # Constructor\n",
        "    def __init__(\n",
        "            self,\n",
        "            model,\n",
        "            data_loader_train,\n",
        "            data_loader_validation = None,\n",
        "            optimizer_name = 'adam',\n",
        "            optimizer_lr = 1e-3,\n",
        "            device = 'auto',\n",
        "            fp_checkpoints = None\n",
        "        ) -> None:\n",
        "        self.model = model\n",
        "        self.data_loader_train = data_loader_train\n",
        "        self.data_loader_validation = data_loader_validation if data_loader_validation is not None else self.data_loader_train\n",
        "        self.loss_fn = torch.nn.MSELoss()\n",
        "        self.optimizer_name = optimizer_name.lower()\n",
        "        self.optimizer_lr = optimizer_lr\n",
        "        if self.optimizer_name == 'adam':\n",
        "            self.optimizer = torch.optim.Adam(self.model.parameters(), lr=self.optimizer_lr)\n",
        "        else:\n",
        "            raise NotImplementedError()\n",
        "        self.device = device\n",
        "        if device == 'auto':\n",
        "            if torch.cuda.is_available():\n",
        "                self.device = 'cuda:0'\n",
        "            else:\n",
        "                self.device = 'cpu'\n",
        "        # Base Path\n",
        "        assert fp_checkpoints is not None, 'Checkpoints path should be provided.'\n",
        "        _date_key = str(datetime.datetime.now())[:19].replace(':','').replace(' ','_')\n",
        "        self.fp_checkpoints = os.path.join(\n",
        "            fp_checkpoints,\n",
        "            _date_key\n",
        "        )\n",
        "        return\n",
        "    # Train\n",
        "    def train(self, n_epochs, n_epochs_checkpoint = 10):\n",
        "        model = self.model.to(self.device)\n",
        "        loss_fn = self.loss_fn\n",
        "        logs = []\n",
        "        for i_epoch in range(n_epochs):\n",
        "            print(f\"### Epoch: {i_epoch+1:>3}/{n_epochs:<3}\")\n",
        "            losses_epoch_train = []\n",
        "\n",
        "            # Train\n",
        "            steps = tqdm(self.data_loader_train, desc=f'Epoch Steps - Train Loss: {0.0:>7.3f}')\n",
        "            model.train()\n",
        "            for x_train, y_train in steps:\n",
        "                x_train = x_train.to(self.device)\n",
        "                y_train = y_train.to(self.device)\n",
        "                # Zero your gradients for every batch!\n",
        "                self.optimizer.zero_grad()\n",
        "\n",
        "                # Make predictions for this batch\n",
        "                y_train_pred = model(x_train)\n",
        "\n",
        "                # Compute the loss and its gradients\n",
        "                loss = loss_fn(y_train_pred, y_train)\n",
        "                loss.backward()\n",
        "                loss_value = loss.cpu().item()\n",
        "\n",
        "                # Adjust learning weights\n",
        "                self.optimizer.step()\n",
        "\n",
        "                # Log\n",
        "                losses_epoch_train.append(loss_value)\n",
        "                steps.set_description(\n",
        "                    'Epoch Steps - Train Loss: {:>7.3f}'.format(loss_value)\n",
        "                )\n",
        "            # Validation\n",
        "            losses_epoch_validation = []\n",
        "            model.eval()\n",
        "            with torch.no_grad():\n",
        "                steps = tqdm(self.data_loader_validation, desc=f'Epoch Steps - Validation Loss: {0.0:>7.3f}')\n",
        "                for x_train, y_train in steps:\n",
        "                    x_train = x_train.to(self.device)\n",
        "                    y_train = y_train.to(self.device)\n",
        "                    # Make predictions for this batch\n",
        "                    y_train_pred = model(x_train)\n",
        "\n",
        "                    # Compute the loss and its gradients\n",
        "                    loss = loss_fn(y_train_pred, y_train)\n",
        "                    loss_value = loss.cpu().item()\n",
        "\n",
        "                    # Log\n",
        "                    losses_epoch_validation.append(loss_value)\n",
        "                    steps.set_description(\n",
        "                        'Epoch Steps - Validation Loss: {:>7.3f}'.format(loss_value)\n",
        "                    )\n",
        "            logs.append([\n",
        "                np.mean(losses_epoch_train), np.mean(losses_epoch_validation),\n",
        "                losses_epoch_train, losses_epoch_validation\n",
        "            ])\n",
        "            # Save Model\n",
        "            if (i_epoch+1)%n_epochs_checkpoint == 0:\n",
        "                if not os.path.exists(self.fp_checkpoints):\n",
        "                    os.mkdir(self.fp_checkpoints)\n",
        "                fp_model = os.path.join( self.fp_checkpoints, str(i_epoch).zfill(3)+\".pt\" )\n",
        "                torch.save({\n",
        "                    'epoch': i_epoch,\n",
        "                    'model_state_dict': model.state_dict(),\n",
        "                    'optimizer_state_dict': self.optimizer.state_dict(),\n",
        "                    'loss_train': np.mean(losses_epoch_train),\n",
        "                    'loss_validation': np.mean(losses_epoch_validation),\n",
        "                    },\n",
        "                    fp_model\n",
        "                )\n",
        "        return logs\n",
        "    # Test\n",
        "    def test(self, data_loader_test):\n",
        "        model = self.model.to(self.device)\n",
        "        loss_fn = self.loss_fn\n",
        "\n",
        "        # Test\n",
        "        losses_epoch_test = []\n",
        "        model.eval()\n",
        "        with torch.no_grad():\n",
        "            steps = tqdm(data_loader_test, desc=f'Epoch Steps - Test Loss: {0.0:>7.3f}')\n",
        "            for x_train, y_train in steps:\n",
        "                x_train = x_train.to(self.device)\n",
        "                y_train = y_train.to(self.device)\n",
        "                # Make predictions for this batch\n",
        "                y_train_pred = model(x_train)\n",
        "\n",
        "                # Compute the loss and its gradients\n",
        "                loss = loss_fn(y_train_pred, y_train)\n",
        "                loss_value = loss.cpu().item()\n",
        "\n",
        "                # Log\n",
        "                losses_epoch_test.append(loss_value)\n",
        "                steps.set_description(\n",
        "                    'Epoch Steps - Test Loss: {:>7.3f}'.format(loss_value)\n",
        "                )\n",
        "        return losses_epoch_test\n"
      ],
      "metadata": {
        "id": "2Fh6UxB1JW1p"
      },
      "execution_count": 6,
      "outputs": []
    },
    {
      "cell_type": "code",
      "source": [
        "from torchvision import models\n",
        "#################################################################\n",
        "model = models.resnet18(pretrained=True) # weights='IMAGENET1K_V1',\n",
        "num_ftrs = model.fc.in_features\n",
        "# Freeze All Other Layers except last\n",
        "# for param in model.parameters():\n",
        "#     param.requires_grad = False\n",
        "# Here the size of each output sample is set to 2.\n",
        "# Alternatively, it can be generalized to ``nn.Linear(num_ftrs, len(class_names))``.\n",
        "model.fc = nn.Linear(num_ftrs, 2)\n",
        "model = model.to(DEVICE)\n",
        "#################################################################\n",
        "# model = models.resnet18(pretrained=False) # weights='IMAGENET1K_V1',\n",
        "# num_ftrs = model.fc.in_features\n",
        "# model.fc = nn.Linear(num_ftrs, 2)\n",
        "# model = model.to(DEVICE)"
      ],
      "metadata": {
        "colab": {
          "base_uri": "https://localhost:8080/"
        },
        "id": "mXjEjMSRMN3m",
        "outputId": "e231173b-6eac-4f98-8488-e977c2dc5436"
      },
      "execution_count": null,
      "outputs": [
        {
          "output_type": "stream",
          "name": "stderr",
          "text": [
            "/usr/local/lib/python3.10/dist-packages/torchvision/models/_utils.py:208: UserWarning: The parameter 'pretrained' is deprecated since 0.13 and may be removed in the future, please use 'weights' instead.\n",
            "  warnings.warn(\n",
            "/usr/local/lib/python3.10/dist-packages/torchvision/models/_utils.py:223: UserWarning: Arguments other than a weight enum or `None` for 'weights' are deprecated since 0.13 and may be removed in the future. The current behavior is equivalent to passing `weights=ResNet18_Weights.IMAGENET1K_V1`. You can also use `weights=ResNet18_Weights.DEFAULT` to get the most up-to-date weights.\n",
            "  warnings.warn(msg)\n",
            "Downloading: \"https://download.pytorch.org/models/resnet18-f37072fd.pth\" to /root/.cache/torch/hub/checkpoints/resnet18-f37072fd.pth\n",
            "100%|██████████| 44.7M/44.7M [00:00<00:00, 263MB/s]\n"
          ]
        }
      ]
    },
    {
      "cell_type": "code",
      "source": [
        "fp_base = \"/content/drive/MyDrive/NortheasternUniversity/VenkatachalamLab/20230623TrackingNN\""
      ],
      "metadata": {
        "id": "Kd8VZ_n60amt"
      },
      "execution_count": 10,
      "outputs": []
    },
    {
      "cell_type": "markdown",
      "source": [
        "# Split Train, Validation and Test"
      ],
      "metadata": {
        "id": "LYPUHzMgOtRJ"
      }
    },
    {
      "cell_type": "code",
      "source": [
        "file_training_data = h5File(\n",
        "    f\"{fp_base}/training_data.h5\"\n",
        ")\n",
        "list(file_training_data)"
      ],
      "metadata": {
        "colab": {
          "base_uri": "https://localhost:8080/"
        },
        "id": "E91ubYRXOiT1",
        "outputId": "61c04d7b-ec58-4984-81d1-9d3ff4199ddf"
      },
      "execution_count": null,
      "outputs": [
        {
          "output_type": "execute_result",
          "data": {
            "text/plain": [
              "['annotations', 'data', 'index']"
            ]
          },
          "metadata": {},
          "execution_count": 10
        }
      ]
    },
    {
      "cell_type": "code",
      "source": [
        "# Select Test Subset\n",
        "indices = file_training_data['index'][:,0]\n",
        "indices_test = np.array([\n",
        "    i in {7,9,12} for i in indices\n",
        "])\n",
        "indices_train = ~indices_test\n",
        "\n",
        "\n",
        "# Select Validation Subset\n",
        "indices_train_validation = np.array([\n",
        "    i in {2,4} for i in indices\n",
        "])\n",
        "\n",
        "\n",
        "indices_train_train = (~indices_test) & (~indices_train_validation)"
      ],
      "metadata": {
        "id": "8N5IpqRUPYCt"
      },
      "execution_count": null,
      "outputs": []
    },
    {
      "cell_type": "code",
      "source": [
        "np.sum(indices_test), np.sum(indices_train_train), np.sum(indices_train_validation)"
      ],
      "metadata": {
        "id": "q2qoQMLcSSkd",
        "colab": {
          "base_uri": "https://localhost:8080/"
        },
        "outputId": "24a7fa68-5c9e-42e1-d290-eb858b402d62"
      },
      "execution_count": null,
      "outputs": [
        {
          "output_type": "execute_result",
          "data": {
            "text/plain": [
              "(516, 1754, 470)"
            ]
          },
          "metadata": {},
          "execution_count": 12
        }
      ]
    },
    {
      "cell_type": "code",
      "source": [
        "# Test\n",
        "with h5File(\"data_test.h5\", 'w') as out_file:\n",
        "    indices = np.where(indices_test)[0]\n",
        "    out_file['data'] = file_training_data['data'][indices]\n",
        "    out_file['annotations'] = file_training_data['annotations'][indices]\n",
        "    out_file['index'] = file_training_data['index'][indices]\n",
        "# Train-Train\n",
        "with h5File(\"data_train_train.h5\", 'w') as out_file:\n",
        "    indices = np.where(indices_train_train)[0]\n",
        "    out_file['data'] = file_training_data['data'][indices]\n",
        "    out_file['annotations'] = file_training_data['annotations'][indices]\n",
        "    out_file['index'] = file_training_data['index'][indices]\n",
        "# Train-Validation\n",
        "with h5File(\"data_train_validation.h5\", 'w') as out_file:\n",
        "    indices = np.where(indices_train_validation)[0]\n",
        "    out_file['data'] = file_training_data['data'][indices]\n",
        "    out_file['annotations'] = file_training_data['annotations'][indices]\n",
        "    out_file['index'] = file_training_data['index'][indices]"
      ],
      "metadata": {
        "id": "go2ubdwjTtmU"
      },
      "execution_count": null,
      "outputs": []
    },
    {
      "cell_type": "code",
      "source": [
        "file_training_data.close()"
      ],
      "metadata": {
        "id": "zoosZmdLURcF"
      },
      "execution_count": null,
      "outputs": []
    },
    {
      "cell_type": "markdown",
      "source": [
        "\n",
        "\n",
        "---\n",
        "\n"
      ],
      "metadata": {
        "id": "ha9PFHmGxuSL"
      }
    },
    {
      "cell_type": "markdown",
      "source": [
        "# Training Part\n",
        "For evaluation using a checkpoint, scroll down"
      ],
      "metadata": {
        "id": "1YhHP8PixnHw"
      }
    },
    {
      "cell_type": "code",
      "source": [
        "dataloader_test = DataLoader(\n",
        "    AnnotatedDataLoader(\n",
        "        fp_annotated_data=\"data_test.h5\",\n",
        "        factor_augmentations=4,\n",
        "        always_same_rows=False\n",
        "    ),\n",
        "    batch_size=32, shuffle=True,\n",
        "    collate_fn=collate_fn_3d_input\n",
        ")\n",
        "\n",
        "dataloader_train_train = DataLoader(\n",
        "    AnnotatedDataLoader(\n",
        "        fp_annotated_data=\"data_train_train.h5\",\n",
        "        factor_augmentations=5,\n",
        "        always_same_rows=False\n",
        "    ),\n",
        "    batch_size=32, shuffle=True,\n",
        "    collate_fn=collate_fn_3d_input\n",
        ")\n",
        "\n",
        "dataloader_train_validation = DataLoader(\n",
        "    AnnotatedDataLoader(\n",
        "        fp_annotated_data=\"data_train_validation.h5\",\n",
        "        factor_augmentations=5,\n",
        "        always_same_rows=False\n",
        "    ),\n",
        "    batch_size=32, shuffle=True,\n",
        "    collate_fn=collate_fn_3d_input\n",
        ")"
      ],
      "metadata": {
        "id": "aFjN1y3CWK-K"
      },
      "execution_count": null,
      "outputs": []
    },
    {
      "cell_type": "code",
      "source": [
        "# Training\n",
        "fp_models = os.path.join( f\"{fp_base}/models\" )"
      ],
      "metadata": {
        "id": "qCZxk_RNyHQK"
      },
      "execution_count": null,
      "outputs": []
    },
    {
      "cell_type": "code",
      "source": [
        "trainer = TrainerCoordinates(\n",
        "    model,\n",
        "    data_loader_train=dataloader_train_train,\n",
        "    data_loader_validation=dataloader_train_validation,\n",
        "    fp_checkpoints=fp_models\n",
        ")"
      ],
      "metadata": {
        "id": "LNrbAbrFJete"
      },
      "execution_count": null,
      "outputs": []
    },
    {
      "cell_type": "code",
      "source": [
        "logs_train = trainer.train(50)"
      ],
      "metadata": {
        "colab": {
          "base_uri": "https://localhost:8080/"
        },
        "id": "Krmxp-3VJtuh",
        "outputId": "270c856f-46a3-4e69-a923-e6960f6cf37b"
      },
      "execution_count": null,
      "outputs": [
        {
          "output_type": "stream",
          "name": "stdout",
          "text": [
            "### Epoch:   1/50 \n"
          ]
        },
        {
          "output_type": "stream",
          "name": "stderr",
          "text": [
            "Epoch Steps - Train Loss: 4610.803: 100%|██████████| 275/275 [02:54<00:00,  1.58it/s]\n",
            "Epoch Steps - Validation Loss: 4444.330: 100%|██████████| 74/74 [00:32<00:00,  2.27it/s]\n"
          ]
        },
        {
          "output_type": "stream",
          "name": "stdout",
          "text": [
            "### Epoch:   2/50 \n"
          ]
        },
        {
          "output_type": "stream",
          "name": "stderr",
          "text": [
            "Epoch Steps - Train Loss: 1567.639: 100%|██████████| 275/275 [02:53<00:00,  1.58it/s]\n",
            "Epoch Steps - Validation Loss: 1215.975: 100%|██████████| 74/74 [00:30<00:00,  2.40it/s]\n"
          ]
        },
        {
          "output_type": "stream",
          "name": "stdout",
          "text": [
            "### Epoch:   3/50 \n"
          ]
        },
        {
          "output_type": "stream",
          "name": "stderr",
          "text": [
            "Epoch Steps - Train Loss: 858.925: 100%|██████████| 275/275 [02:53<00:00,  1.58it/s]\n",
            "Epoch Steps - Validation Loss: 836.625: 100%|██████████| 74/74 [00:30<00:00,  2.41it/s]\n"
          ]
        },
        {
          "output_type": "stream",
          "name": "stdout",
          "text": [
            "### Epoch:   4/50 \n"
          ]
        },
        {
          "output_type": "stream",
          "name": "stderr",
          "text": [
            "Epoch Steps - Train Loss: 2984.361: 100%|██████████| 275/275 [02:53<00:00,  1.58it/s]\n",
            "Epoch Steps - Validation Loss: 1086.706: 100%|██████████| 74/74 [00:31<00:00,  2.31it/s]\n"
          ]
        },
        {
          "output_type": "stream",
          "name": "stdout",
          "text": [
            "### Epoch:   5/50 \n"
          ]
        },
        {
          "output_type": "stream",
          "name": "stderr",
          "text": [
            "Epoch Steps - Train Loss: 1572.291: 100%|██████████| 275/275 [02:53<00:00,  1.59it/s]\n",
            "Epoch Steps - Validation Loss: 1235.717: 100%|██████████| 74/74 [00:31<00:00,  2.35it/s]\n"
          ]
        },
        {
          "output_type": "stream",
          "name": "stdout",
          "text": [
            "### Epoch:   6/50 \n"
          ]
        },
        {
          "output_type": "stream",
          "name": "stderr",
          "text": [
            "Epoch Steps - Train Loss: 1079.684: 100%|██████████| 275/275 [02:53<00:00,  1.59it/s]\n",
            "Epoch Steps - Validation Loss: 1576.114: 100%|██████████| 74/74 [00:32<00:00,  2.31it/s]\n"
          ]
        },
        {
          "output_type": "stream",
          "name": "stdout",
          "text": [
            "### Epoch:   7/50 \n"
          ]
        },
        {
          "output_type": "stream",
          "name": "stderr",
          "text": [
            "Epoch Steps - Train Loss: 1202.656: 100%|██████████| 275/275 [02:53<00:00,  1.58it/s]\n",
            "Epoch Steps - Validation Loss: 552.988: 100%|██████████| 74/74 [00:30<00:00,  2.41it/s]\n"
          ]
        },
        {
          "output_type": "stream",
          "name": "stdout",
          "text": [
            "### Epoch:   8/50 \n"
          ]
        },
        {
          "output_type": "stream",
          "name": "stderr",
          "text": [
            "Epoch Steps - Train Loss: 459.317: 100%|██████████| 275/275 [02:53<00:00,  1.59it/s]\n",
            "Epoch Steps - Validation Loss: 932.538: 100%|██████████| 74/74 [00:32<00:00,  2.29it/s]\n"
          ]
        },
        {
          "output_type": "stream",
          "name": "stdout",
          "text": [
            "### Epoch:   9/50 \n"
          ]
        },
        {
          "output_type": "stream",
          "name": "stderr",
          "text": [
            "Epoch Steps - Train Loss: 1002.250: 100%|██████████| 275/275 [02:52<00:00,  1.59it/s]\n",
            "Epoch Steps - Validation Loss: 519.979: 100%|██████████| 74/74 [00:30<00:00,  2.41it/s]\n"
          ]
        },
        {
          "output_type": "stream",
          "name": "stdout",
          "text": [
            "### Epoch:  10/50 \n"
          ]
        },
        {
          "output_type": "stream",
          "name": "stderr",
          "text": [
            "Epoch Steps - Train Loss: 526.034: 100%|██████████| 275/275 [02:53<00:00,  1.58it/s]\n",
            "Epoch Steps - Validation Loss: 1261.820: 100%|██████████| 74/74 [00:30<00:00,  2.40it/s]\n"
          ]
        },
        {
          "output_type": "stream",
          "name": "stdout",
          "text": [
            "### Epoch:  11/50 \n"
          ]
        },
        {
          "output_type": "stream",
          "name": "stderr",
          "text": [
            "Epoch Steps - Train Loss: 534.913: 100%|██████████| 275/275 [02:53<00:00,  1.58it/s]\n",
            "Epoch Steps - Validation Loss:  81.805: 100%|██████████| 74/74 [00:30<00:00,  2.42it/s]\n"
          ]
        },
        {
          "output_type": "stream",
          "name": "stdout",
          "text": [
            "### Epoch:  12/50 \n"
          ]
        },
        {
          "output_type": "stream",
          "name": "stderr",
          "text": [
            "Epoch Steps - Train Loss: 439.632: 100%|██████████| 275/275 [02:53<00:00,  1.59it/s]\n",
            "Epoch Steps - Validation Loss: 1853.383: 100%|██████████| 74/74 [00:31<00:00,  2.31it/s]\n"
          ]
        },
        {
          "output_type": "stream",
          "name": "stdout",
          "text": [
            "### Epoch:  13/50 \n"
          ]
        },
        {
          "output_type": "stream",
          "name": "stderr",
          "text": [
            "Epoch Steps - Train Loss: 865.370: 100%|██████████| 275/275 [02:53<00:00,  1.58it/s]\n",
            "Epoch Steps - Validation Loss: 331.690: 100%|██████████| 74/74 [00:30<00:00,  2.41it/s]\n"
          ]
        },
        {
          "output_type": "stream",
          "name": "stdout",
          "text": [
            "### Epoch:  14/50 \n"
          ]
        },
        {
          "output_type": "stream",
          "name": "stderr",
          "text": [
            "Epoch Steps - Train Loss: 105.810: 100%|██████████| 275/275 [02:54<00:00,  1.58it/s]\n",
            "Epoch Steps - Validation Loss: 1184.104: 100%|██████████| 74/74 [00:30<00:00,  2.39it/s]\n"
          ]
        },
        {
          "output_type": "stream",
          "name": "stdout",
          "text": [
            "### Epoch:  15/50 \n"
          ]
        },
        {
          "output_type": "stream",
          "name": "stderr",
          "text": [
            "Epoch Steps - Train Loss: 516.780: 100%|██████████| 275/275 [02:53<00:00,  1.58it/s]\n",
            "Epoch Steps - Validation Loss: 898.040: 100%|██████████| 74/74 [00:31<00:00,  2.33it/s]\n"
          ]
        },
        {
          "output_type": "stream",
          "name": "stdout",
          "text": [
            "### Epoch:  16/50 \n"
          ]
        },
        {
          "output_type": "stream",
          "name": "stderr",
          "text": [
            "Epoch Steps - Train Loss: 643.024: 100%|██████████| 275/275 [02:53<00:00,  1.58it/s]\n",
            "Epoch Steps - Validation Loss: 325.424: 100%|██████████| 74/74 [00:32<00:00,  2.30it/s]\n"
          ]
        },
        {
          "output_type": "stream",
          "name": "stdout",
          "text": [
            "### Epoch:  17/50 \n"
          ]
        },
        {
          "output_type": "stream",
          "name": "stderr",
          "text": [
            "Epoch Steps - Train Loss:  73.722: 100%|██████████| 275/275 [02:53<00:00,  1.58it/s]\n",
            "Epoch Steps - Validation Loss: 118.362: 100%|██████████| 74/74 [00:30<00:00,  2.42it/s]\n"
          ]
        },
        {
          "output_type": "stream",
          "name": "stdout",
          "text": [
            "### Epoch:  18/50 \n"
          ]
        },
        {
          "output_type": "stream",
          "name": "stderr",
          "text": [
            "Epoch Steps - Train Loss: 700.196: 100%|██████████| 275/275 [02:54<00:00,  1.58it/s]\n",
            "Epoch Steps - Validation Loss: 550.701: 100%|██████████| 74/74 [00:30<00:00,  2.40it/s]\n"
          ]
        },
        {
          "output_type": "stream",
          "name": "stdout",
          "text": [
            "### Epoch:  19/50 \n"
          ]
        },
        {
          "output_type": "stream",
          "name": "stderr",
          "text": [
            "Epoch Steps - Train Loss: 1407.311: 100%|██████████| 275/275 [02:52<00:00,  1.59it/s]\n",
            "Epoch Steps - Validation Loss: 165.407: 100%|██████████| 74/74 [00:31<00:00,  2.34it/s]\n"
          ]
        },
        {
          "output_type": "stream",
          "name": "stdout",
          "text": [
            "### Epoch:  20/50 \n"
          ]
        },
        {
          "output_type": "stream",
          "name": "stderr",
          "text": [
            "Epoch Steps - Train Loss:  76.837: 100%|██████████| 275/275 [02:52<00:00,  1.59it/s]\n",
            "Epoch Steps - Validation Loss: 332.442: 100%|██████████| 74/74 [00:30<00:00,  2.40it/s]\n"
          ]
        },
        {
          "output_type": "stream",
          "name": "stdout",
          "text": [
            "### Epoch:  21/50 \n"
          ]
        },
        {
          "output_type": "stream",
          "name": "stderr",
          "text": [
            "Epoch Steps - Train Loss: 1503.203: 100%|██████████| 275/275 [02:54<00:00,  1.57it/s]\n",
            "Epoch Steps - Validation Loss: 607.321: 100%|██████████| 74/74 [00:30<00:00,  2.43it/s]\n"
          ]
        },
        {
          "output_type": "stream",
          "name": "stdout",
          "text": [
            "### Epoch:  22/50 \n"
          ]
        },
        {
          "output_type": "stream",
          "name": "stderr",
          "text": [
            "Epoch Steps - Train Loss: 840.860: 100%|██████████| 275/275 [02:53<00:00,  1.59it/s]\n",
            "Epoch Steps - Validation Loss: 779.566: 100%|██████████| 74/74 [00:31<00:00,  2.38it/s]\n"
          ]
        },
        {
          "output_type": "stream",
          "name": "stdout",
          "text": [
            "### Epoch:  23/50 \n"
          ]
        },
        {
          "output_type": "stream",
          "name": "stderr",
          "text": [
            "Epoch Steps - Train Loss:  29.043: 100%|██████████| 275/275 [02:52<00:00,  1.59it/s]\n",
            "Epoch Steps - Validation Loss:  72.253: 100%|██████████| 74/74 [00:30<00:00,  2.41it/s]\n"
          ]
        },
        {
          "output_type": "stream",
          "name": "stdout",
          "text": [
            "### Epoch:  24/50 \n"
          ]
        },
        {
          "output_type": "stream",
          "name": "stderr",
          "text": [
            "Epoch Steps - Train Loss: 1731.234: 100%|██████████| 275/275 [02:53<00:00,  1.59it/s]\n",
            "Epoch Steps - Validation Loss: 268.246: 100%|██████████| 74/74 [00:30<00:00,  2.41it/s]\n"
          ]
        },
        {
          "output_type": "stream",
          "name": "stdout",
          "text": [
            "### Epoch:  25/50 \n"
          ]
        },
        {
          "output_type": "stream",
          "name": "stderr",
          "text": [
            "Epoch Steps - Train Loss: 657.112: 100%|██████████| 275/275 [02:53<00:00,  1.58it/s]\n",
            "Epoch Steps - Validation Loss: 454.381: 100%|██████████| 74/74 [00:31<00:00,  2.32it/s]\n"
          ]
        },
        {
          "output_type": "stream",
          "name": "stdout",
          "text": [
            "### Epoch:  26/50 \n"
          ]
        },
        {
          "output_type": "stream",
          "name": "stderr",
          "text": [
            "Epoch Steps - Train Loss: 501.853: 100%|██████████| 275/275 [02:53<00:00,  1.58it/s]\n",
            "Epoch Steps - Validation Loss: 1170.747: 100%|██████████| 74/74 [00:31<00:00,  2.36it/s]\n"
          ]
        },
        {
          "output_type": "stream",
          "name": "stdout",
          "text": [
            "### Epoch:  27/50 \n"
          ]
        },
        {
          "output_type": "stream",
          "name": "stderr",
          "text": [
            "Epoch Steps - Train Loss: 3075.601: 100%|██████████| 275/275 [02:53<00:00,  1.59it/s]\n",
            "Epoch Steps - Validation Loss: 296.222: 100%|██████████| 74/74 [00:31<00:00,  2.38it/s]\n"
          ]
        },
        {
          "output_type": "stream",
          "name": "stdout",
          "text": [
            "### Epoch:  28/50 \n"
          ]
        },
        {
          "output_type": "stream",
          "name": "stderr",
          "text": [
            "Epoch Steps - Train Loss:  23.184: 100%|██████████| 275/275 [02:53<00:00,  1.59it/s]\n",
            "Epoch Steps - Validation Loss: 349.965: 100%|██████████| 74/74 [00:30<00:00,  2.41it/s]\n"
          ]
        },
        {
          "output_type": "stream",
          "name": "stdout",
          "text": [
            "### Epoch:  29/50 \n"
          ]
        },
        {
          "output_type": "stream",
          "name": "stderr",
          "text": [
            "Epoch Steps - Train Loss: 539.508: 100%|██████████| 275/275 [02:53<00:00,  1.58it/s]\n",
            "Epoch Steps - Validation Loss:  38.803: 100%|██████████| 74/74 [00:31<00:00,  2.39it/s]\n"
          ]
        },
        {
          "output_type": "stream",
          "name": "stdout",
          "text": [
            "### Epoch:  30/50 \n"
          ]
        },
        {
          "output_type": "stream",
          "name": "stderr",
          "text": [
            "Epoch Steps - Train Loss: 126.366: 100%|██████████| 275/275 [02:54<00:00,  1.58it/s]\n",
            "Epoch Steps - Validation Loss: 1319.395: 100%|██████████| 74/74 [00:30<00:00,  2.43it/s]\n"
          ]
        },
        {
          "output_type": "stream",
          "name": "stdout",
          "text": [
            "### Epoch:  31/50 \n"
          ]
        },
        {
          "output_type": "stream",
          "name": "stderr",
          "text": [
            "Epoch Steps - Train Loss:   4.005: 100%|██████████| 275/275 [02:52<00:00,  1.60it/s]\n",
            "Epoch Steps - Validation Loss: 239.383: 100%|██████████| 74/74 [00:31<00:00,  2.35it/s]\n"
          ]
        },
        {
          "output_type": "stream",
          "name": "stdout",
          "text": [
            "### Epoch:  32/50 \n"
          ]
        },
        {
          "output_type": "stream",
          "name": "stderr",
          "text": [
            "Epoch Steps - Train Loss: 282.446: 100%|██████████| 275/275 [02:52<00:00,  1.60it/s]\n",
            "Epoch Steps - Validation Loss: 623.322: 100%|██████████| 74/74 [00:30<00:00,  2.41it/s]\n"
          ]
        },
        {
          "output_type": "stream",
          "name": "stdout",
          "text": [
            "### Epoch:  33/50 \n"
          ]
        },
        {
          "output_type": "stream",
          "name": "stderr",
          "text": [
            "Epoch Steps - Train Loss:  21.187: 100%|██████████| 275/275 [02:54<00:00,  1.58it/s]\n",
            "Epoch Steps - Validation Loss:  59.771: 100%|██████████| 74/74 [00:31<00:00,  2.35it/s]\n"
          ]
        },
        {
          "output_type": "stream",
          "name": "stdout",
          "text": [
            "### Epoch:  34/50 \n"
          ]
        },
        {
          "output_type": "stream",
          "name": "stderr",
          "text": [
            "Epoch Steps - Train Loss: 108.267: 100%|██████████| 275/275 [02:53<00:00,  1.58it/s]\n",
            "Epoch Steps - Validation Loss: 200.326: 100%|██████████| 74/74 [00:32<00:00,  2.27it/s]\n"
          ]
        },
        {
          "output_type": "stream",
          "name": "stdout",
          "text": [
            "### Epoch:  35/50 \n"
          ]
        },
        {
          "output_type": "stream",
          "name": "stderr",
          "text": [
            "Epoch Steps - Train Loss: 1155.344: 100%|██████████| 275/275 [02:54<00:00,  1.58it/s]\n",
            "Epoch Steps - Validation Loss: 2224.010: 100%|██████████| 74/74 [00:31<00:00,  2.36it/s]\n"
          ]
        },
        {
          "output_type": "stream",
          "name": "stdout",
          "text": [
            "### Epoch:  36/50 \n"
          ]
        },
        {
          "output_type": "stream",
          "name": "stderr",
          "text": [
            "Epoch Steps - Train Loss:  30.870: 100%|██████████| 275/275 [02:54<00:00,  1.57it/s]\n",
            "Epoch Steps - Validation Loss: 621.298: 100%|██████████| 74/74 [00:31<00:00,  2.37it/s]\n"
          ]
        },
        {
          "output_type": "stream",
          "name": "stdout",
          "text": [
            "### Epoch:  37/50 \n"
          ]
        },
        {
          "output_type": "stream",
          "name": "stderr",
          "text": [
            "Epoch Steps - Train Loss:  11.697: 100%|██████████| 275/275 [02:53<00:00,  1.58it/s]\n",
            "Epoch Steps - Validation Loss: 420.218: 100%|██████████| 74/74 [00:30<00:00,  2.39it/s]\n"
          ]
        },
        {
          "output_type": "stream",
          "name": "stdout",
          "text": [
            "### Epoch:  38/50 \n"
          ]
        },
        {
          "output_type": "stream",
          "name": "stderr",
          "text": [
            "Epoch Steps - Train Loss: 4379.250: 100%|██████████| 275/275 [02:53<00:00,  1.59it/s]\n",
            "Epoch Steps - Validation Loss:  70.700: 100%|██████████| 74/74 [00:30<00:00,  2.40it/s]\n"
          ]
        },
        {
          "output_type": "stream",
          "name": "stdout",
          "text": [
            "### Epoch:  39/50 \n"
          ]
        },
        {
          "output_type": "stream",
          "name": "stderr",
          "text": [
            "Epoch Steps - Train Loss: 741.984: 100%|██████████| 275/275 [02:53<00:00,  1.58it/s]\n",
            "Epoch Steps - Validation Loss: 634.119: 100%|██████████| 74/74 [00:31<00:00,  2.33it/s]\n"
          ]
        },
        {
          "output_type": "stream",
          "name": "stdout",
          "text": [
            "### Epoch:  40/50 \n"
          ]
        },
        {
          "output_type": "stream",
          "name": "stderr",
          "text": [
            "Epoch Steps - Train Loss: 161.459: 100%|██████████| 275/275 [02:54<00:00,  1.58it/s]\n",
            "Epoch Steps - Validation Loss: 397.223: 100%|██████████| 74/74 [00:30<00:00,  2.41it/s]\n"
          ]
        },
        {
          "output_type": "stream",
          "name": "stdout",
          "text": [
            "### Epoch:  41/50 \n"
          ]
        },
        {
          "output_type": "stream",
          "name": "stderr",
          "text": [
            "Epoch Steps - Train Loss: 279.750: 100%|██████████| 275/275 [02:52<00:00,  1.59it/s]\n",
            "Epoch Steps - Validation Loss:  49.920: 100%|██████████| 74/74 [00:31<00:00,  2.34it/s]\n"
          ]
        },
        {
          "output_type": "stream",
          "name": "stdout",
          "text": [
            "### Epoch:  42/50 \n"
          ]
        },
        {
          "output_type": "stream",
          "name": "stderr",
          "text": [
            "Epoch Steps - Train Loss: 284.050: 100%|██████████| 275/275 [02:52<00:00,  1.59it/s]\n",
            "Epoch Steps - Validation Loss: 153.816: 100%|██████████| 74/74 [00:30<00:00,  2.42it/s]\n"
          ]
        },
        {
          "output_type": "stream",
          "name": "stdout",
          "text": [
            "### Epoch:  43/50 \n"
          ]
        },
        {
          "output_type": "stream",
          "name": "stderr",
          "text": [
            "Epoch Steps - Train Loss: 220.216: 100%|██████████| 275/275 [02:53<00:00,  1.58it/s]\n",
            "Epoch Steps - Validation Loss:  16.261: 100%|██████████| 74/74 [00:30<00:00,  2.39it/s]\n"
          ]
        },
        {
          "output_type": "stream",
          "name": "stdout",
          "text": [
            "### Epoch:  44/50 \n"
          ]
        },
        {
          "output_type": "stream",
          "name": "stderr",
          "text": [
            "Epoch Steps - Train Loss:  16.631: 100%|██████████| 275/275 [02:52<00:00,  1.59it/s]\n",
            "Epoch Steps - Validation Loss:  29.573: 100%|██████████| 74/74 [00:31<00:00,  2.33it/s]\n"
          ]
        },
        {
          "output_type": "stream",
          "name": "stdout",
          "text": [
            "### Epoch:  45/50 \n"
          ]
        },
        {
          "output_type": "stream",
          "name": "stderr",
          "text": [
            "Epoch Steps - Train Loss:  42.839: 100%|██████████| 275/275 [02:52<00:00,  1.59it/s]\n",
            "Epoch Steps - Validation Loss: 404.293: 100%|██████████| 74/74 [00:30<00:00,  2.41it/s]\n"
          ]
        },
        {
          "output_type": "stream",
          "name": "stdout",
          "text": [
            "### Epoch:  46/50 \n"
          ]
        },
        {
          "output_type": "stream",
          "name": "stderr",
          "text": [
            "Epoch Steps - Train Loss: 597.449: 100%|██████████| 275/275 [02:53<00:00,  1.58it/s]\n",
            "Epoch Steps - Validation Loss: 201.526: 100%|██████████| 74/74 [00:31<00:00,  2.32it/s]\n"
          ]
        },
        {
          "output_type": "stream",
          "name": "stdout",
          "text": [
            "### Epoch:  47/50 \n"
          ]
        },
        {
          "output_type": "stream",
          "name": "stderr",
          "text": [
            "Epoch Steps - Train Loss:  12.497: 100%|██████████| 275/275 [02:51<00:00,  1.60it/s]\n",
            "Epoch Steps - Validation Loss: 485.029: 100%|██████████| 74/74 [00:32<00:00,  2.29it/s]\n"
          ]
        },
        {
          "output_type": "stream",
          "name": "stdout",
          "text": [
            "### Epoch:  48/50 \n"
          ]
        },
        {
          "output_type": "stream",
          "name": "stderr",
          "text": [
            "Epoch Steps - Train Loss: 139.507:   7%|▋         | 20/275 [00:12<02:31,  1.68it/s]"
          ]
        }
      ]
    },
    {
      "cell_type": "code",
      "source": [
        "logs_test = trainer.test(dataloader_test)"
      ],
      "metadata": {
        "id": "8IiWPMOUZOaG"
      },
      "execution_count": null,
      "outputs": []
    },
    {
      "cell_type": "markdown",
      "source": [
        "# Get Predictions with Extra Informations"
      ],
      "metadata": {
        "id": "RIwSAT-ijIcD"
      }
    },
    {
      "cell_type": "code",
      "source": [
        "dataloader_train_train_training = DataLoader(\n",
        "    AnnotatedDataLoader(\n",
        "        fp_annotated_data=\"data_train_train.h5\",\n",
        "        factor_augmentations=5,\n",
        "        always_same_rows=False\n",
        "    ),\n",
        "    batch_size=128, shuffle=True,\n",
        "    collate_fn=collate_fn_3d_input\n",
        ")\n",
        "\n",
        "\n",
        "dataloader_test = DataLoader(\n",
        "    AnnotatedDataLoaderDebug(\n",
        "        fp_annotated_data=\"data_test.h5\",\n",
        "        factor_augmentations=4,\n",
        "        always_same_rows=False\n",
        "    ),\n",
        "    batch_size=128, shuffle=True,\n",
        "    collate_fn=collate_fn_3d_input_debug\n",
        ")\n",
        "\n",
        "dataloader_train_train = DataLoader(\n",
        "    AnnotatedDataLoaderDebug(\n",
        "        fp_annotated_data=\"data_train_train.h5\",\n",
        "        factor_augmentations=5,\n",
        "        always_same_rows=False\n",
        "    ),\n",
        "    batch_size=128, shuffle=True,\n",
        "    collate_fn=collate_fn_3d_input_debug\n",
        ")\n",
        "\n",
        "dataloader_train_validation = DataLoader(\n",
        "    AnnotatedDataLoaderDebug(\n",
        "        fp_annotated_data=\"data_train_validation.h5\",\n",
        "        factor_augmentations=5,\n",
        "        always_same_rows=False\n",
        "    ),\n",
        "    batch_size=128, shuffle=True,\n",
        "    collate_fn=collate_fn_3d_input_debug\n",
        ")"
      ],
      "metadata": {
        "id": "eNWUDKTzxyQp"
      },
      "execution_count": null,
      "outputs": []
    },
    {
      "cell_type": "code",
      "source": [
        "fp_checkpoint = f\"{fp_base}/models/2023-06-27_222549/039.pt\"\n",
        "checkpoint = torch.load(fp_checkpoint, map_location=torch.device('cpu'))\n",
        "model.load_state_dict(checkpoint['model_state_dict'])\n",
        "loss_train = checkpoint['loss_train']\n",
        "loss_validation = checkpoint['loss_validation']\n",
        "_ = model.eval()"
      ],
      "metadata": {
        "id": "_JYRe7fLy1XJ"
      },
      "execution_count": null,
      "outputs": []
    },
    {
      "cell_type": "code",
      "source": [
        "import gc\n",
        "loss_fn = nn.MSELoss()\n",
        "\n",
        "# Train-Train\n",
        "with torch.no_grad():\n",
        "    steps = tqdm(dataloader_train_train, desc=f'Epoch Steps - Train-Train Loss: {0.0:>7.3f}')\n",
        "    for i_batch, (x, y, infos) in enumerate(steps):\n",
        "        x = x.to(DEVICE)\n",
        "        y = y.to(DEVICE)\n",
        "\n",
        "        y_pred = model(x)\n",
        "        loss = loss_fn(y_pred, y)\n",
        "        loss_value = loss.cpu().item()\n",
        "\n",
        "        # Log\n",
        "        steps.set_description(\n",
        "            'Epoch Steps - Train-Train Loss: {:>7.3f}'.format(loss_value)\n",
        "        )\n",
        "\n",
        "        # Store\n",
        "        fp_result = \"{}/models/2023-06-27_222549/evaluations/train_train_{}.npz\".format(\n",
        "            fp_base,\n",
        "            str(i_batch).zfill(3)\n",
        "        )\n",
        "        np.savez_compressed(\n",
        "            fp_result,\n",
        "            x = x[:,0,:,:].numpy(),\n",
        "            y = y.numpy(),\n",
        "            y_pred = y_pred.numpy(),\n",
        "            infos = infos.numpy()\n",
        "        )\n",
        "        gc.collect()"
      ],
      "metadata": {
        "colab": {
          "base_uri": "https://localhost:8080/"
        },
        "id": "_0joT5bBx9Ob",
        "outputId": "937aa8e6-d250-4290-c376-4e80c9d8fa73"
      },
      "execution_count": null,
      "outputs": [
        {
          "output_type": "stream",
          "name": "stderr",
          "text": [
            "Epoch Steps - Train-Train Loss:  41.601: 100%|██████████| 69/69 [59:45<00:00, 51.97s/it]\n"
          ]
        }
      ]
    },
    {
      "cell_type": "code",
      "source": [
        "# Train-Validation\n",
        "with torch.no_grad():\n",
        "    steps = tqdm(dataloader_train_validation, desc=f'Epoch Steps - Train-Validation Loss: {0.0:>7.3f}')\n",
        "    for i_batch, (x, y, infos) in enumerate(steps):\n",
        "        x = x.to(DEVICE)\n",
        "        y = y.to(DEVICE)\n",
        "\n",
        "        y_pred = model(x)\n",
        "        loss = loss_fn(y_pred, y)\n",
        "        loss_value = loss.cpu().item()\n",
        "\n",
        "        # Log\n",
        "        steps.set_description(\n",
        "            'Epoch Steps - Train-Validation Loss: {:>7.3f}'.format(loss_value)\n",
        "        )\n",
        "\n",
        "        # Store\n",
        "        fp_result = \"{}/models/2023-06-27_222549/evaluations/train_validation_{}.npz\".format(\n",
        "            fp_base,\n",
        "            str(i_batch).zfill(3)\n",
        "        )\n",
        "        np.savez_compressed(\n",
        "            fp_result,\n",
        "            x = x[:,0,:,:].numpy(),\n",
        "            y = y.numpy(),\n",
        "            y_pred = y_pred.numpy(),\n",
        "            infos = infos.numpy()\n",
        "        )\n",
        "        gc.collect()\n",
        "# Test\n",
        "with torch.no_grad():\n",
        "    steps = tqdm(dataloader_test, desc=f'Epoch Steps - Test Loss: {0.0:>7.3f}')\n",
        "    for i_batch, (x, y, infos) in enumerate(steps):\n",
        "        x = x.to(DEVICE)\n",
        "        y = y.to(DEVICE)\n",
        "\n",
        "        y_pred = model(x)\n",
        "        loss = loss_fn(y_pred, y)\n",
        "        loss_value = loss.cpu().item()\n",
        "\n",
        "        # Log\n",
        "        steps.set_description(\n",
        "            'Epoch Steps - Test Loss: {:>7.3f}'.format(loss_value)\n",
        "        )\n",
        "\n",
        "        # Store\n",
        "        fp_result = \"{}/models/2023-06-27_222549/evaluations/test_{}.npz\".format(\n",
        "            fp_base,\n",
        "            str(i_batch).zfill(3)\n",
        "        )\n",
        "        np.savez_compressed(\n",
        "            fp_result,\n",
        "            x = x[:,0,:,:].numpy(),\n",
        "            y = y.numpy(),\n",
        "            y_pred = y_pred.numpy(),\n",
        "            infos = infos.numpy()\n",
        "        )\n",
        "        gc.collect()"
      ],
      "metadata": {
        "colab": {
          "base_uri": "https://localhost:8080/"
        },
        "id": "dvU78jqB1ZF7",
        "outputId": "fe86aa12-6303-4381-f766-f09de83c82da"
      },
      "execution_count": null,
      "outputs": [
        {
          "output_type": "stream",
          "name": "stderr",
          "text": [
            "Epoch Steps - Train-Validation Loss: 357.950: 100%|██████████| 19/19 [15:52<00:00, 50.15s/it]\n",
            "Epoch Steps - Test Loss: 1044.051: 100%|██████████| 17/17 [13:52<00:00, 48.97s/it]\n"
          ]
        }
      ]
    },
    {
      "cell_type": "markdown",
      "source": [
        "# Evaluate in Details\n",
        "- use the dataloaders with collator functions for debug\n",
        "- report both for training, validation and test, good and bad results\n",
        "- check result performance by index of dataset\n",
        "- check result performance by checkpoint number"
      ],
      "metadata": {
        "id": "NMmT1s8FX784"
      }
    },
    {
      "cell_type": "code",
      "source": [
        "from glob import glob\n",
        "import gc"
      ],
      "metadata": {
        "id": "V0cLtfiQ1Y33"
      },
      "execution_count": 29,
      "outputs": []
    },
    {
      "cell_type": "code",
      "source": [
        "fp_base = \"/content/drive/MyDrive/NortheasternUniversity/VenkatachalamLab/20230623TrackingNN\"\n",
        "fp_checkpoint_folder = f\"{fp_base}/models/2023-06-27_222549\""
      ],
      "metadata": {
        "id": "ysSzNNG4jXiM"
      },
      "execution_count": 11,
      "outputs": []
    },
    {
      "cell_type": "code",
      "source": [
        "train_train = {\n",
        "    'xs': [],\n",
        "    'ys': [],\n",
        "    'ys_pred': [],\n",
        "    'image_idxs': [],\n",
        "    'labels': [],\n",
        "    'thetas': [],\n",
        "    'gammas': [],\n",
        "}\n",
        "for fp in tqdm( glob(fp_checkpoint_folder+\"/evaluations/train_train_*.npz\") ):\n",
        "    with np.load(fp) as in_file:\n",
        "        train_train['xs'].extend( in_file['x'] )\n",
        "        train_train['ys'].extend( in_file['y'] )\n",
        "        train_train['ys_pred'].extend( in_file['y_pred'] )\n",
        "        infos = in_file['infos'] # 0: image_idx, 1: x_idx, 2: y_idx, 3: label, 4: theta, 5: gamma\n",
        "        train_train['image_idxs'].extend( infos[:,0].astype(np.uint32) )\n",
        "        train_train['labels'].extend( infos[:,3].astype(np.uint8) )\n",
        "        train_train['thetas'].extend( infos[:,4] )\n",
        "        train_train['gammas'].extend( infos[:,5] )\n",
        "    _ = gc.collect()\n",
        "## Convert\n",
        "for key, vals in train_train.items():\n",
        "    train_train[key] = np.array(vals)\n",
        "    _ = gc.collect()\n",
        "train_train['losses'] = np.linalg.norm(\n",
        "    train_train['ys'] - train_train['ys_pred'],\n",
        "    axis=1\n",
        ")\n",
        "indices_sorted = np.argsort( train_train['losses'] )[::-1]"
      ],
      "metadata": {
        "id": "Pzx6-DzD1YdW",
        "colab": {
          "base_uri": "https://localhost:8080/"
        },
        "outputId": "f1ed5528-786d-4c02-acb3-d5d72943f065"
      },
      "execution_count": 30,
      "outputs": [
        {
          "output_type": "stream",
          "name": "stderr",
          "text": [
            "100%|██████████| 69/69 [01:07<00:00,  1.03it/s]\n"
          ]
        }
      ]
    },
    {
      "cell_type": "code",
      "source": [
        "idx = indices_sorted[0]\n",
        "\n",
        "image_idx = train_train['image_idxs'][idx]\n",
        "x = train_train['xs'][idx]\n",
        "y = train_train['ys'][idx]\n",
        "y_pred = train_train['ys_pred'][idx]\n",
        "label =train_train['labels'][idx]\n",
        "\n",
        "loss = train_train['losses'][idx]\n",
        "theta = train_train['thetas'][idx]\n",
        "gamma = train_train['gammas'][idx]"
      ],
      "metadata": {
        "id": "uXuP5d_XnNe4"
      },
      "execution_count": 58,
      "outputs": []
    },
    {
      "cell_type": "code",
      "source": [],
      "metadata": {
        "id": "Pj0o3rTbpQzQ"
      },
      "execution_count": null,
      "outputs": []
    },
    {
      "cell_type": "code",
      "source": [
        "y_pred"
      ],
      "metadata": {
        "colab": {
          "base_uri": "https://localhost:8080/"
        },
        "id": "x7tk6HLOpNz3",
        "outputId": "b76f6f6e-0191-4f93-be99-36c2758dc3f4"
      },
      "execution_count": 62,
      "outputs": [
        {
          "output_type": "execute_result",
          "data": {
            "text/plain": [
              "array([169.36115, 183.19992], dtype=float32)"
            ]
          },
          "metadata": {},
          "execution_count": 62
        }
      ]
    },
    {
      "cell_type": "code",
      "source": [
        "y"
      ],
      "metadata": {
        "colab": {
          "base_uri": "https://localhost:8080/"
        },
        "id": "8ORufJ8zpM8i",
        "outputId": "95b20cbc-eaf3-405d-e344-65ca08152ce1"
      },
      "execution_count": 61,
      "outputs": [
        {
          "output_type": "execute_result",
          "data": {
            "text/plain": [
              "array([250., 148.], dtype=float32)"
            ]
          },
          "metadata": {},
          "execution_count": 61
        }
      ]
    },
    {
      "cell_type": "code",
      "source": [
        "plt.figure()\n",
        "\n",
        "plt.imshow(x, vmin=0, vmax=255, cmap='gray')\n",
        "plt.scatter(*y)\n",
        "\n",
        "plt.show()"
      ],
      "metadata": {
        "colab": {
          "base_uri": "https://localhost:8080/",
          "height": 435
        },
        "id": "TXzP9ihVnNV4",
        "outputId": "eab0e7d6-f179-4fb2-99be-5af76cdce231"
      },
      "execution_count": 60,
      "outputs": [
        {
          "output_type": "display_data",
          "data": {
            "text/plain": [
              "<Figure size 640x480 with 1 Axes>"
            ],
            "image/png": "[encoded data removed]"
          },
          "metadata": {}
        }
      ]
    },
    {
      "cell_type": "code",
      "source": [],
      "metadata": {
        "id": "kXZYl6vcnBhY"
      },
      "execution_count": 32,
      "outputs": []
    },
    {
      "cell_type": "code",
      "source": [
        "for x, y in dataloader_test:\n",
        "    x = x.to(DEVICE)\n",
        "    y = y.to(DEVICE)\n",
        "    break"
      ],
      "metadata": {
        "id": "xDWqOOq-ZpC5"
      },
      "execution_count": null,
      "outputs": []
    },
    {
      "cell_type": "code",
      "source": [
        "model.eval()\n",
        "y_pred = model(x)"
      ],
      "metadata": {
        "id": "i2VP_z_UZoCe"
      },
      "execution_count": null,
      "outputs": []
    },
    {
      "cell_type": "code",
      "source": [
        "for i in range(len(y)):\n",
        "    print( y[i].cpu().numpy(), y_pred[i].detach().cpu().numpy() )"
      ],
      "metadata": {
        "id": "OHor4tPZ4835"
      },
      "execution_count": null,
      "outputs": []
    },
    {
      "cell_type": "code",
      "source": [
        "y_train_pred = model(x_train)"
      ],
      "metadata": {
        "id": "h7FhP5sA5HUh"
      },
      "execution_count": null,
      "outputs": []
    },
    {
      "cell_type": "code",
      "source": [
        "for idx in x_train.shape[0]:\n",
        "    img = x_train[idx,0].detach().cpu().numpy()\n",
        "    coords = y_train[idx].detach().cpu().numpy()\n",
        "    coords_pred = y_train_pred[idx].detach().cpu().numpy()\n",
        "\n",
        "\n",
        "    plt.figure()\n",
        "    plt.title(str(idx))\n",
        "    plt.imshow(img, vmin=0, vmax=255, cmap='gray')\n",
        "    plt.scatter(*(coords))\n",
        "    plt.scatter(*(coords_pred), color='red')\n",
        "    plt.show()"
      ],
      "metadata": {
        "id": "dJ1qF2y21ncz"
      },
      "execution_count": null,
      "outputs": []
    },
    {
      "cell_type": "code",
      "source": [],
      "metadata": {
        "id": "pMdv1RRs1otC"
      },
      "execution_count": null,
      "outputs": []
    },
    {
      "cell_type": "code",
      "source": [
        "\n",
        "\n",
        "\n",
        "\n",
        "\n",
        "\n",
        "\n",
        "\n",
        "\n",
        "\n",
        "\n",
        "\n",
        "\n",
        "\n",
        "\n",
        "\n",
        "\n",
        "\n",
        "\n",
        "\n",
        "\n",
        "\n",
        "\n",
        "\n",
        "\n",
        "\n",
        "\n",
        "\n",
        "\n",
        "\n",
        "\n",
        "\n",
        "\n",
        "\n",
        "\n",
        "\n",
        "\n",
        "\n",
        "\n",
        "\n",
        "\n",
        "\n",
        "\n",
        "\n",
        "\n",
        "\n",
        "\n",
        "\n",
        "\n",
        "\n",
        "\n",
        "\n",
        "\n",
        "\n",
        "\n",
        "\n"
      ],
      "metadata": {
        "id": "Eh8X78mb8Cd6"
      },
      "execution_count": null,
      "outputs": []
    }
  ]
}