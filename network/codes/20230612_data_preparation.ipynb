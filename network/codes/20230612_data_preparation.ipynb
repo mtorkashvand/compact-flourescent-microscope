{
 "cells": [
  {
   "cell_type": "code",
   "execution_count": 5,
   "id": "6ebe934b-9387-4e16-b3a4-082253a7519e",
   "metadata": {},
   "outputs": [],
   "source": [
    "from glob import glob\n",
    "from h5py import File as h5File\n",
    "import os\n",
    "import numpy as np\n",
    "\n",
    "import cv2 as cv\n",
    "from tqdm import tqdm\n",
    "\n",
    "import matplotlib.pyplot as plt"
   ]
  },
  {
   "cell_type": "code",
   "execution_count": 3,
   "id": "6e1379c8-1453-4acb-9279-b847f673d158",
   "metadata": {},
   "outputs": [],
   "source": [
    "import torch\n",
    "import torch.nn as nn\n",
    "import torch.nn.functional as F"
   ]
  },
  {
   "cell_type": "markdown",
   "id": "0370e846-f2d1-4c32-b343-47bdf8362a9e",
   "metadata": {},
   "source": [
    "# Methods"
   ]
  },
  {
   "cell_type": "code",
   "execution_count": 3,
   "id": "3f2aefc1-6faf-4373-86e9-22e9deab4c91",
   "metadata": {},
   "outputs": [],
   "source": [
    "def plot_img(img,x,y):\n",
    "    plt.figure(figsize=(12,12))\n",
    "    plt.imshow(\n",
    "        img,\n",
    "        vmin=0, vmax=255,\n",
    "        cmap='gray'\n",
    "    )\n",
    "    plt.scatter([x],[y])\n",
    "    plt.show()"
   ]
  },
  {
   "cell_type": "markdown",
   "id": "af52935d-c230-41f4-a749-5a0ff40e17e5",
   "metadata": {},
   "source": [
    "# Load Data"
   ]
  },
  {
   "cell_type": "code",
   "execution_count": 4,
   "id": "4e95b1cd-f737-46de-91ab-d2729455dde4",
   "metadata": {},
   "outputs": [],
   "source": [
    "IMG_OUTPUT_DIM = 128\n",
    "if torch.cuda.is_available():\n",
    "    DEVICE = 'cuda:0'\n",
    "else:\n",
    "    DEVICE = 'cpu'"
   ]
  },
  {
   "cell_type": "code",
   "execution_count": 6,
   "id": "1deef721-6a8f-4b9b-a9f3-ba7c2ea70893",
   "metadata": {},
   "outputs": [
    {
     "data": {
      "text/plain": [
       "(3600, 512, 512)"
      ]
     },
     "execution_count": 6,
     "metadata": {},
     "output_type": "execute_result"
    }
   ],
   "source": [
    "if 'file' in locals():\n",
    "    file.close()\n",
    "file = h5File(\n",
    "    \"../data/raw/20230414_N2_pharyngeal_and_pumping/000003.h5\"\n",
    ")\n",
    "data = file['data']\n",
    "data.shape"
   ]
  },
  {
   "cell_type": "code",
   "execution_count": null,
   "id": "fc40ceb8-b6be-44ad-8da7-1e8ead0745eb",
   "metadata": {},
   "outputs": [],
   "source": [
    "if 'data_annotated' not in locals():\n",
    "    data_annotated = dict()"
   ]
  },
  {
   "cell_type": "code",
   "execution_count": null,
   "id": "16840d48-b7a4-4a05-8b66-0fe75d6119ea",
   "metadata": {},
   "outputs": [],
   "source": [
    "# t=0, i,j = 374, 289\n",
    "# t=1000, i,j = 308, 181"
   ]
  },
  {
   "cell_type": "code",
   "execution_count": null,
   "id": "d8acd1b9-0b31-4467-8cb9-1258e54d7eb6",
   "metadata": {},
   "outputs": [],
   "source": [
    "t = 0\n",
    "i, j = 374, 289\n",
    "img = data[t].copy()\n",
    "img_annotated = np.zeros_like( img, dtype=np.float32 )\n",
    "img_annotated[i,j] = 100.0\n",
    "img_annotated = cv.GaussianBlur(img_annotated,(11,11), 0)\n",
    "img_annotated = cv.resize(img_annotated, (IMG_OUTPUT_DIM, IMG_OUTPUT_DIM))\n",
    "img_annotated /= img_annotated.max()\n",
    "data_annotated[t] = img_annotated\n",
    "\n",
    "##############################################################################\n",
    "\n",
    "t = 1000\n",
    "i, j = 308, 181\n",
    "img = data[t].copy()\n",
    "img_annotated = np.zeros_like( img, dtype=np.float32 )\n",
    "img_annotated[i,j] = 100.0\n",
    "img_annotated = cv.GaussianBlur(img_annotated,(11,11), 0)\n",
    "img_annotated = cv.resize(img_annotated, (IMG_OUTPUT_DIM, IMG_OUTPUT_DIM))\n",
    "img_annotated /= img_annotated.max()\n",
    "\n",
    "data_annotated[t] = img_annotated"
   ]
  },
  {
   "cell_type": "code",
   "execution_count": null,
   "id": "0729b8f9-58c8-46da-93ed-6c35bbeacc57",
   "metadata": {},
   "outputs": [],
   "source": [
    "plot_img(\n",
    "    data[t], j,i\n",
    ")"
   ]
  },
  {
   "cell_type": "code",
   "execution_count": null,
   "id": "d5482dda-4021-4aa7-9df2-e6be1901f2b2",
   "metadata": {},
   "outputs": [],
   "source": [
    "# plt.figure(figsize=(12,12))\n",
    "# plt.imshow(img[350:400, 250:300], cmap='gray')\n",
    "# plt.show()\n",
    "\n",
    "# plt.figure(figsize=(12,12))\n",
    "# plt.imshow(img_annotated[350:400, 250:300])\n",
    "# plt.show()"
   ]
  },
  {
   "cell_type": "markdown",
   "id": "a6fba4bd-fc0b-4b41-a7f3-cb3346d85585",
   "metadata": {},
   "source": [
    "# X and Y"
   ]
  },
  {
   "cell_type": "code",
   "execution_count": null,
   "id": "0e388cb3-be9b-4a38-b0a9-a632d8984904",
   "metadata": {},
   "outputs": [],
   "source": [
    "ts = sorted(data_annotated)\n",
    "X = np.array([\n",
    "    data[t] for t in ts\n",
    "])\n",
    "y = np.array([\n",
    "    data_annotated[t] for t in ts\n",
    "])"
   ]
  },
  {
   "cell_type": "code",
   "execution_count": null,
   "id": "43dd0b44-f541-4bc2-a12a-afd058b54e95",
   "metadata": {},
   "outputs": [],
   "source": [
    "# for _x, _y in zip( X, y ):\n",
    "#     plt.figure()\n",
    "#     plt.imshow(_x)\n",
    "#     plt.show()\n",
    "#     plt.figure()\n",
    "#     plt.imshow(_y)\n",
    "#     plt.show()\n",
    "#     print(\"\\n\"*5)"
   ]
  },
  {
   "cell_type": "code",
   "execution_count": null,
   "id": "ba55d7f1-13fe-44ac-8b5d-cc7ec69cd904",
   "metadata": {},
   "outputs": [],
   "source": [
    "X.shape, y.shape"
   ]
  },
  {
   "cell_type": "code",
   "execution_count": null,
   "id": "f04a2014-60f2-4fe6-aac2-34f3033fd3e6",
   "metadata": {},
   "outputs": [],
   "source": [
    "class Model(nn.Module):\n",
    "    def __init__(self):\n",
    "        super().__init__()\n",
    "        # Convolutions\n",
    "        self.conv1 = nn.Conv2d(1, 4, 25)\n",
    "        self.conv1_activation = nn.ReLU()\n",
    "        self.conv1_pooling = nn.MaxPool2d(5, stride=2)\n",
    "        # TODO: add max_pooling layers\n",
    "        # https://pytorch.org/docs/stable/generated/torch.nn.MaxPool2d.html#torch.nn.MaxPool2d\n",
    "        # Flatten\n",
    "        self.flatten = nn.Flatten()\n",
    "        # Denses\n",
    "        self.linear1 = nn.Linear(\n",
    "            in_features=234256,\n",
    "            out_features=64\n",
    "        )\n",
    "        self.linear1_activation = nn.ReLU()\n",
    "        self.dense = nn.Linear(\n",
    "            in_features=64,\n",
    "            out_features=IMG_OUTPUT_DIM**2\n",
    "        )\n",
    "        self.to_probability = nn.Sigmoid()\n",
    "        return\n",
    "\n",
    "    def forward(self, x):\n",
    "        # Convolutions\n",
    "        x = self.conv1_activation(self.conv1(x))\n",
    "        x = self.conv1_pooling(x)\n",
    "        # Flattern\n",
    "        x = self.flatten(x)\n",
    "        # Dense\n",
    "        x = self.linear1_activation(\n",
    "            self.linear1(x)\n",
    "        )\n",
    "        x = self.dense(x)\n",
    "        return self.to_probability(x)"
   ]
  },
  {
   "cell_type": "code",
   "execution_count": null,
   "id": "d29cf70d-5589-45a5-a1f5-93a8beecc13f",
   "metadata": {},
   "outputs": [],
   "source": [
    "model = Model().to(DEVICE)\n",
    "model"
   ]
  },
  {
   "cell_type": "code",
   "execution_count": null,
   "id": "e2a13eb3-5a3f-41e0-8802-bae24b26b79b",
   "metadata": {},
   "outputs": [],
   "source": [
    "loss_fn = torch.nn.CrossEntropyLoss()\n",
    "optimizer = torch.optim.Adam(model.parameters(), lr=0.001)"
   ]
  },
  {
   "cell_type": "code",
   "execution_count": null,
   "id": "97d76540-af9f-4a66-b307-7a69b8bb201c",
   "metadata": {},
   "outputs": [],
   "source": [
    "X_train = torch.tensor(X[:, None, :, :], dtype=torch.float).to(DEVICE)\n",
    "y_train = torch.tensor(\n",
    "    np.reshape(y, (2,IMG_OUTPUT_DIM**2)),\n",
    "    dtype=torch.float\n",
    ").to(DEVICE)"
   ]
  },
  {
   "cell_type": "code",
   "execution_count": null,
   "id": "8f9bd3c4-5046-4a56-976b-6fd6296294b9",
   "metadata": {},
   "outputs": [],
   "source": [
    "iterable = tqdm( range(1000), desc=f'Loss: {0.0:>7.3f}' )\n",
    "\n",
    "for i_epoch in iterable:\n",
    "    # Zero your gradients for every batch!\n",
    "    optimizer.zero_grad()\n",
    "\n",
    "    # Make predictions for this batch\n",
    "    y_train_pred = model(X_train)\n",
    "\n",
    "    # Compute the loss and its gradients\n",
    "    loss = loss_fn(y_train_pred, y_train)\n",
    "    loss.backward()\n",
    "\n",
    "    # Adjust learning weights\n",
    "    optimizer.step()\n",
    "\n",
    "    # Report\n",
    "    iterable.set_description(\n",
    "        'Loss: {:>7.3f}'.format(\n",
    "            loss.cpu().item()\n",
    "        )\n",
    "    )"
   ]
  },
  {
   "cell_type": "code",
   "execution_count": null,
   "id": "ab5b6e84-69ca-4ab3-bd54-021899ddf80d",
   "metadata": {},
   "outputs": [],
   "source": [
    "plt.figure()\n",
    "plt.imshow(\n",
    "    np.reshape(\n",
    "        y_train_pred[1].detach().cpu().numpy(),\n",
    "        (IMG_OUTPUT_DIM,IMG_OUTPUT_DIM)\n",
    "    )\n",
    ")\n",
    "plt.show()\n",
    "#########################################\n",
    "plt.figure()\n",
    "plt.imshow(\n",
    "    np.reshape(\n",
    "        y_train[1].cpu().numpy(),\n",
    "        (IMG_OUTPUT_DIM,IMG_OUTPUT_DIM)\n",
    "    )\n",
    ")\n",
    "plt.show()"
   ]
  },
  {
   "cell_type": "code",
   "execution_count": null,
   "id": "86f815e5-a543-4b6a-afc9-bbd062b3e1e5",
   "metadata": {},
   "outputs": [],
   "source": [
    "img_pred = np.reshape(\n",
    "    y_train_pred[0].detach().cpu().numpy(),\n",
    "    (IMG_OUTPUT_DIM,IMG_OUTPUT_DIM)\n",
    ")"
   ]
  },
  {
   "cell_type": "code",
   "execution_count": null,
   "id": "9e7c55fd-82e4-4c64-815b-ae0bfbf75a61",
   "metadata": {},
   "outputs": [],
   "source": [
    "plt.imshow(\n",
    "    img_pred > 0.9\n",
    ")"
   ]
  },
  {
   "cell_type": "code",
   "execution_count": null,
   "id": "47a8269c-f073-4331-a487-0d4da9a69ae9",
   "metadata": {},
   "outputs": [],
   "source": [
    "np.where(img_pred > 0.9)"
   ]
  },
  {
   "cell_type": "code",
   "execution_count": null,
   "id": "6172ec55-d2b1-4f58-97e6-1d85fd973111",
   "metadata": {},
   "outputs": [],
   "source": [
    "np.where(\n",
    "    data_annotated[0] == 1.0\n",
    ")"
   ]
  },
  {
   "cell_type": "code",
   "execution_count": null,
   "id": "616f79b1-b942-42d0-a206-33780ff1997a",
   "metadata": {},
   "outputs": [],
   "source": [
    "np.where(\n",
    "    data_annotated[1000] == 1.0\n",
    ")"
   ]
  },
  {
   "cell_type": "code",
   "execution_count": null,
   "id": "6757a57b-cd7f-4adf-b333-1d6ca72ac697",
   "metadata": {},
   "outputs": [],
   "source": [
    "import time"
   ]
  },
  {
   "cell_type": "code",
   "execution_count": null,
   "id": "1ff2e5bb-dc73-43c2-b3e5-dd10b2d6cf5e",
   "metadata": {},
   "outputs": [],
   "source": [
    "_start = time.time()\n",
    "_N = 1000\n",
    "with torch.no_grad():\n",
    "    for _ in range(_N):\n",
    "        # Make predictions for this batch\n",
    "        y_train_pred = model(X_train)\n",
    "#\n",
    "_end = time.time()\n",
    "_duration = _end - _start"
   ]
  },
  {
   "cell_type": "code",
   "execution_count": null,
   "id": "8f583312-d10d-450e-855b-e20b5c21be5d",
   "metadata": {},
   "outputs": [],
   "source": [
    "1000*(_duration / _N)"
   ]
  },
  {
   "cell_type": "code",
   "execution_count": null,
   "id": "ebcdb05e-3137-4a32-b355-15bdce1eb2cc",
   "metadata": {},
   "outputs": [],
   "source": []
  },
  {
   "cell_type": "code",
   "execution_count": null,
   "id": "a4426c2f-c5a1-4909-9819-a0c6d00b642b",
   "metadata": {},
   "outputs": [],
   "source": []
  },
  {
   "cell_type": "code",
   "execution_count": null,
   "id": "624498d3-b5eb-4ece-87ab-0c729d11688e",
   "metadata": {},
   "outputs": [],
   "source": []
  },
  {
   "cell_type": "code",
   "execution_count": null,
   "id": "1f53e5d8-548a-474e-8f15-e615bc069de6",
   "metadata": {},
   "outputs": [],
   "source": [
    "x = torch.tensor(X[0][None,None,:,:], dtype=torch.float)"
   ]
  },
  {
   "cell_type": "code",
   "execution_count": null,
   "id": "7425cf24-e6c5-4a1e-a10a-356b5f580d67",
   "metadata": {},
   "outputs": [],
   "source": [
    "l = nn.Conv2d(1, 5, 5)"
   ]
  },
  {
   "cell_type": "code",
   "execution_count": null,
   "id": "b5942556-a775-49f3-b74b-aa46b24bfe92",
   "metadata": {},
   "outputs": [],
   "source": [
    "tmp = l(x)"
   ]
  },
  {
   "cell_type": "code",
   "execution_count": null,
   "id": "1e51862e-5d54-47fd-a827-b9c1e59341db",
   "metadata": {},
   "outputs": [],
   "source": [
    "tmp.shape"
   ]
  },
  {
   "cell_type": "code",
   "execution_count": null,
   "id": "c65f5b34-d5ac-4cbd-b69b-c3b6699c1d80",
   "metadata": {},
   "outputs": [],
   "source": [
    "nn.Flatten()(tmp).shape"
   ]
  },
  {
   "cell_type": "code",
   "execution_count": null,
   "id": "f2d2eb5a-b855-48a7-80a3-812af28f0320",
   "metadata": {},
   "outputs": [],
   "source": [
    "512*512"
   ]
  },
  {
   "cell_type": "code",
   "execution_count": null,
   "id": "12be8bdb-f329-4fc7-9032-d906ad8162bd",
   "metadata": {},
   "outputs": [],
   "source": [
    "nn.MaxPool2d(5, stride=2)(tmp).shape"
   ]
  },
  {
   "cell_type": "code",
   "execution_count": null,
   "id": "7908e137-0e0e-41f5-b85d-af9679791844",
   "metadata": {},
   "outputs": [],
   "source": [
    "5*252*252"
   ]
  },
  {
   "cell_type": "code",
   "execution_count": null,
   "id": "84541b92-cdf2-43d0-9936-a07e6390c6e5",
   "metadata": {},
   "outputs": [],
   "source": [
    "317520*262144"
   ]
  },
  {
   "cell_type": "code",
   "execution_count": null,
   "id": "260a62dd-8a2d-4f42-99bc-00f86b0431b0",
   "metadata": {},
   "outputs": [],
   "source": []
  },
  {
   "cell_type": "code",
   "execution_count": null,
   "id": "62324374-4bc7-4359-850b-13057adb6161",
   "metadata": {},
   "outputs": [],
   "source": []
  },
  {
   "cell_type": "code",
   "execution_count": null,
   "id": "daa2372f-3bee-402b-9b17-5f4b6c0204ef",
   "metadata": {},
   "outputs": [],
   "source": []
  },
  {
   "cell_type": "code",
   "execution_count": null,
   "id": "f00fa742-922e-498f-bc36-16510c675165",
   "metadata": {},
   "outputs": [],
   "source": []
  },
  {
   "cell_type": "code",
   "execution_count": null,
   "id": "da23f1e7-4383-46ef-9401-be7c002fae41",
   "metadata": {},
   "outputs": [],
   "source": []
  },
  {
   "cell_type": "code",
   "execution_count": null,
   "id": "1b7a9fda-3f08-48f7-af83-fae87825ed91",
   "metadata": {},
   "outputs": [],
   "source": []
  },
  {
   "cell_type": "code",
   "execution_count": null,
   "id": "d4491cc5-191d-46b9-b463-b73af23afc66",
   "metadata": {},
   "outputs": [],
   "source": []
  },
  {
   "cell_type": "code",
   "execution_count": null,
   "id": "d68c9d5f-d803-4f1a-b2ac-5d3825b6ef83",
   "metadata": {},
   "outputs": [],
   "source": []
  },
  {
   "cell_type": "code",
   "execution_count": null,
   "id": "93294897-dcae-41e5-a747-6b1142185564",
   "metadata": {},
   "outputs": [],
   "source": []
  }
 ],
 "metadata": {
  "kernelspec": {
   "display_name": "Python 3 (ipykernel)",
   "language": "python",
   "name": "python3"
  },
  "language_info": {
   "codemirror_mode": {
    "name": "ipython",
    "version": 3
   },
   "file_extension": ".py",
   "mimetype": "text/x-python",
   "name": "python",
   "nbconvert_exporter": "python",
   "pygments_lexer": "ipython3",
   "version": "3.9.12"
  }
 },
 "nbformat": 4,
 "nbformat_minor": 5
}
